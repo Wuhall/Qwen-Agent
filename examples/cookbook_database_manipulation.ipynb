{
 "cells": [
  {
   "cell_type": "markdown",
   "metadata": {},
   "source": [
    "# Cookbook: Database Manipulation\n",
    "\n",
    "In this cookbook, we will explore a simple data processing example: reading a file, adding its data to a database, and querying it. It shows how we can efficiently manipulate data with agents."
   ]
  },
  {
   "cell_type": "markdown",
   "metadata": {},
   "source": [
    "# Install Requirements\n",
    "\n",
    "We will use [Qwen-Agent](https://github.com/QwenLM/Qwen-Agent) in this book. For demonstration, we will need at least the `mcp` functionality of Qwen-Agent."
   ]
  },
  {
   "cell_type": "code",
   "execution_count": null,
   "metadata": {},
   "outputs": [],
   "source": [
    "!pip3 install -U \"qwen-agent[gui,rag,code_interpreter,mcp]\"\n",
    "# `pip install -U qwen-agent` will install the minimal requirements.\n",
    "# The optional requirements, specified in double brackets, are:\n",
    "#   [gui] for Gradio-based GUI support;\n",
    "#   [rag] for RAG support;\n",
    "#   [code_interpreter] for Code Interpreter support;\n",
    "#   [mcp] for MCP support."
   ]
  },
  {
   "cell_type": "code",
   "execution_count": 2,
   "metadata": {},
   "outputs": [
    {
     "name": "stdout",
     "output_type": "stream",
     "text": [
      "Collecting uv\n",
      "  Using cached uv-0.7.10-py3-none-macosx_11_0_arm64.whl.metadata (11 kB)\n",
      "Downloading uv-0.7.10-py3-none-macosx_11_0_arm64.whl (15.8 MB)\n",
      "\u001b[2K   \u001b[90m━━━━━━━━━━━━━━━━━━━━━━━━━━━━━━━━━━━━━━━━\u001b[0m \u001b[32m15.8/15.8 MB\u001b[0m \u001b[31m5.9 MB/s\u001b[0m eta \u001b[36m0:00:00\u001b[0ma \u001b[36m0:00:01\u001b[0m\n",
      "\u001b[?25hInstalling collected packages: uv\n",
      "Successfully installed uv-0.7.10\n"
     ]
    }
   ],
   "source": [
    "!pip3 install -U uv\n",
    "# We will use mcp servers that run with the `uvx` command, so `uv` is required."
   ]
  },
  {
   "cell_type": "code",
   "execution_count": 3,
   "metadata": {},
   "outputs": [
    {
     "name": "stdout",
     "output_type": "stream",
     "text": [
      "10.7.0\n",
      "\u001b[1G\u001b[0K"
     ]
    }
   ],
   "source": [
    "!npm --version\n",
    "# We also use mcp servers that run with the `npx` command, so node.js should be installed."
   ]
  },
  {
   "cell_type": "markdown",
   "metadata": {},
   "source": [
    "# Create a Spreadsheet\n",
    "\n",
    "We create a sample spreadsheet and save it as `scores.csv` for later use."
   ]
  },
  {
   "cell_type": "code",
   "execution_count": 4,
   "metadata": {},
   "outputs": [],
   "source": [
    "import csv\n",
    "\n",
    "csv_file_name = 'scores.csv'\n",
    "table = [\n",
    "    {\"id\": 100, \"score\": 85},\n",
    "    {\"id\": 101, \"score\": 90},\n",
    "    {\"id\": 102, \"score\": 88},\n",
    "    {\"id\": 103, \"score\": 95},\n",
    "    {\"id\": 104, \"score\": 80},\n",
    "    {\"id\": 105, \"score\": 92},\n",
    "    {\"id\": 106, \"score\": 87},\n",
    "    {\"id\": 107, \"score\": 100},\n",
    "    {\"id\": 108, \"score\": 83},\n",
    "    {\"id\": 109, \"score\": 98}\n",
    "]\n",
    "\n",
    "with open(csv_file_name, mode='w', newline='') as csv_file:\n",
    "    writer = csv.DictWriter(csv_file, fieldnames=['id', 'score'])\n",
    "    writer.writeheader()\n",
    "    for record in table:\n",
    "        writer.writerow(record)"
   ]
  },
  {
   "cell_type": "markdown",
   "metadata": {},
   "source": [
    "# Step 1: Create an Agent\n",
    "\n",
    "Create an agent that is capable of \n",
    "- listing, reading and writing files (through the MCP server `@modelcontextprotocol/server-filesystem`).\n",
    "- performing SQLite database manipulations (through the MCP server `mcp-server-sqlite`)."
   ]
  },
  {
   "cell_type": "code",
   "execution_count": 5,
   "metadata": {},
   "outputs": [],
   "source": [
    "from qwen_agent.agents import Assistant\n",
    "from qwen_agent.utils.output_beautify import typewriter_print\n",
    "# `typewriter_print` prints streaming messages in a non-overlapping manner for a clear view."
   ]
  },
  {
   "cell_type": "code",
   "execution_count": 2,
   "metadata": {},
   "outputs": [],
   "source": [
    "import dotenv\n",
    "# Load environment variables from a .env file if it exists\n",
    "dotenv.load_dotenv()\n",
    "DASHSCOPE_API_KEY = dotenv.get_key(dotenv.find_dotenv(), 'DASHSCOPE_API_KEY')"
   ]
  },
  {
   "cell_type": "code",
   "execution_count": 11,
   "metadata": {},
   "outputs": [
    {
     "name": "stderr",
     "output_type": "stream",
     "text": [
      "2025-06-04 10:33:36,813 - qwen_dashscope.py - 147 - INFO - Setting the dashscope api_key.\n",
      "2025-06-04 10:33:36,946 - mcp_manager.py - 141 - INFO - Initializing MCP tools from mcp servers: ['filesystem', 'sqlite']\n",
      "2025-06-04 10:33:36,954 - mcp_manager.py - 370 - INFO - Initializing a MCP stdio_client, if this takes forever, please check the config of this mcp server: filesystem\n",
      "2025-06-04 10:33:37,691 - mcp_manager.py - 370 - INFO - Initializing a MCP stdio_client, if this takes forever, please check the config of this mcp server: sqlite\n",
      "2025-06-04 10:33:46,599 - mcp_manager.py - 237 - INFO - Failed in listing MCP resource templates: Method not found\n"
     ]
    }
   ],
   "source": [
    "llm_cfg = {\n",
    "    'model': 'qwen3-32b',\n",
    "    'model_server': 'dashscope',\n",
    "    'api_key': DASHSCOPE_API_KEY # **fill your dashscope api key here**\n",
    "\n",
    "    # Use a model service compatible with the OpenAI API, such as vLLM or Ollama:\n",
    "    # 'model': 'Qwen3-8B',\n",
    "    # 'model_server': 'http://localhost:8000/v1',  # base_url, also known as api_base\n",
    "    # 'api_key': 'EMPTY'\n",
    "}\n",
    "\n",
    "tools = [\n",
    "    {\n",
    "        \"mcpServers\": {\n",
    "            # enumeration of mcp server configs\n",
    "            \"filesystem\": {\n",
    "                \"command\": \"npx\",\n",
    "                \"args\": [\n",
    "                    \"-y\",\n",
    "                    \"@modelcontextprotocol/server-filesystem\",\n",
    "                    '.',\n",
    "                ]\n",
    "            },\n",
    "            \"sqlite\" : {\n",
    "                \"command\": \"uvx\",\n",
    "                \"args\": [\n",
    "                    \"mcp-server-sqlite\",\n",
    "                    \"--db-path\",\n",
    "                    \"scores.db\"\n",
    "                ]\n",
    "            }\n",
    "        }\n",
    "    }\n",
    "]\n",
    "\n",
    "agent = Assistant(\n",
    "    llm=llm_cfg, \n",
    "    function_list=tools\n",
    ")"
   ]
  },
  {
   "cell_type": "markdown",
   "metadata": {},
   "source": [
    "# Step 2: Read the Spreadsheet\n",
    "\n",
    "The agent will read the csv table by calling the file reading tool."
   ]
  },
  {
   "cell_type": "code",
   "execution_count": 12,
   "metadata": {},
   "outputs": [],
   "source": [
    "messages = [\n",
    "    {\n",
    "        'role': 'user',\n",
    "        'content': 'Show me the contents in scores.csv.'\n",
    "    }\n",
    "]"
   ]
  },
  {
   "cell_type": "code",
   "execution_count": 13,
   "metadata": {},
   "outputs": [
    {
     "name": "stdout",
     "output_type": "stream",
     "text": [
      "[THINK]\n",
      "Okay, the user wants to see the contents of scores.csv. Let me check which tool to use. The available functions include reading a file, so I should use filesystem-read_file. The parameters require the path to the file. Assuming scores.csv is in an allowed directory, I'll call that function with the path \"scores.csv\". I need to make sure the path is correct and accessible. If there's an issue, the function will return an error, but I'll proceed with the call as instructed.\n",
      "[TOOL_CALL] filesystem-read_file\n",
      "{\"path\": \"scores.csv\"}\n",
      "[TOOL_RESPONSE] filesystem-read_file\n",
      "id,score\n",
      "100,85\n",
      "101,90\n",
      "102,88\n",
      "103,95\n",
      "104,80\n",
      "105,92\n",
      "106,87\n",
      "107,100\n",
      "108,83\n",
      "109,98\n",
      "\n",
      "[THINK]\n",
      "Okay, let me look at the user's request again. They wanted to see the contents of scores.csv, and I used the filesystem-read_file tool to get it. The response shows the CSV data with id and score columns. Now, I need to present this information clearly.\n",
      "\n",
      "First, I'll check if the data makes sense. The IDs are sequential from 100 to 109, and the scores range from 80 to 100. That seems reasonable. The user might be a teacher or administrator looking at student scores. They might want a summary or just the raw data.\n",
      "\n",
      "Since they asked for the contents, providing the data as is is essential. But maybe adding a brief summary would help. I can mention the number of entries and the score range. Also, I should offer further assistance in case they need analysis, like average score or identifying top performers. That way, the response is helpful and invites follow-up questions if needed.\n",
      "[ANSWER]\n",
      "Here are the contents of `scores.csv`:\n",
      "\n",
      "```\n",
      "id,score\n",
      "100,85\n",
      "101,90\n",
      "102,88\n",
      "103,95\n",
      "104,80\n",
      "105,92\n",
      "106,87\n",
      "107,100\n",
      "108,83\n",
      "109,98\n",
      "```\n",
      "\n",
      "This file contains 10 records with two columns:\n",
      "- `id`: Unique identifier (sequential numbers 100-109)\n",
      "- `score`: Numerical scores ranging from 80 to 100\n",
      "\n",
      "Would you like me to analyze this data further (e.g., calculate averages, identify top/bottom scores, etc.)?"
     ]
    }
   ],
   "source": [
    "response_plain_text = ''\n",
    "for ret_messages in agent.run(messages):\n",
    "    # `ret_messages` will contain all subsequent messages, consisting of interleaved assistant messages and tool responses\n",
    "    response_plain_text = typewriter_print(ret_messages, response_plain_text)"
   ]
  },
  {
   "cell_type": "code",
   "execution_count": 14,
   "metadata": {},
   "outputs": [],
   "source": [
    "messages += ret_messages # extending the context with new `ret_messages`."
   ]
  },
  {
   "cell_type": "markdown",
   "metadata": {},
   "source": [
    "# Step 3: Create a Database Table\n",
    "\n",
    "Next, we create a database table and insert all the data that the agent just read."
   ]
  },
  {
   "cell_type": "code",
   "execution_count": 15,
   "metadata": {},
   "outputs": [],
   "source": [
    "messages.append({'role': 'user', 'content': \"Create a table in the database, and fill it with the contents in the previous table.\"})"
   ]
  },
  {
   "cell_type": "code",
   "execution_count": 16,
   "metadata": {},
   "outputs": [
    {
     "name": "stdout",
     "output_type": "stream",
     "text": [
      "[THINK]\n",
      "Okay, let me figure out how to approach this. The user wants to create a table in the database and populate it with the data from the scores.csv file we just looked at.\n",
      "\n",
      "First, I need to create the table. The CSV has two columns: 'id' and 'score'. Both are integers. So the SQL statement should define a table with those columns. Maybe name the table 'scores'.\n",
      "\n",
      "Next, inserting the data. The CSV data is already parsed into rows. Each row after the header has an id and a score. I'll need to generate an INSERT statement for each of those rows.\n",
      "\n",
      "Wait, the user mentioned using the previous table's contents. The assistant showed the CSV data as a table, so the user is referring to that. So the data to insert is the 10 records listed.\n",
      "\n",
      "So first, call sqlite-create_table with the appropriate CREATE TABLE statement. Then, for each row, execute an INSERT. But doing multiple INSERTs might be tedious. Alternatively, use a single INSERT with multiple VALUES clauses. However, the sqlite-write_query function might handle that. Let me check the functions available.\n",
      "\n",
      "The available functions are sqlite-create_table and sqlite-write_query. The write_query can handle INSERT statements. So after creating the table, I can construct an INSERT statement that adds all the rows at once.\n",
      "\n",
      "Putting it all together:\n",
      "\n",
      "1. Create the table:\n",
      "   CREATE TABLE scores (id INTEGER, score INTEGER);\n",
      "\n",
      "2. Insert the data:\n",
      "   INSERT INTO scores (id, score) VALUES (100,85), (101,90), ..., (109,98);\n",
      "\n",
      "So I need to make two function calls: first to create the table, then to insert the data. But the user might want confirmation that the table was created and the data inserted. Alternatively, maybe the user wants to see the result of a SELECT query afterward to verify.\n",
      "\n",
      "Wait, the user's request is to create the table and fill it. The assistant should perform those actions. So the steps are:\n",
      "\n",
      "- Use sqlite-create_table to create the 'scores' table.\n",
      "- Use sqlite-write_query to insert the data.\n",
      "- Optionally, confirm by selecting the data, but the user didn't ask for that. But maybe the assistant should do it to ensure correctness.\n",
      "\n",
      "But the user hasn't asked to display the data again. The main task is to create and populate the table. So proceed with the two function calls.\n",
      "\n",
      "Now, I need to structure the tool calls accordingly. First, the create_table function with the CREATE statement, then the write_query with the INSERT statement.\n",
      "[TOOL_CALL] sqlite-create_table\n",
      "{\"query\": \"CREATE TABLE scores (id INTEGER, score INTEGER);\"}\n",
      "[TOOL_RESPONSE] sqlite-create_table\n",
      "Table created successfully\n",
      "[THINK]\n",
      "Okay, the user wants to create a table in the database and fill it with the data from the previous CSV file. I already created the 'scores' table using the CREATE TABLE statement. Now, I need to insert the data from the CSV into this table.\n",
      "\n",
      "Looking at the CSV data, there are 10 rows with id and score. Each row is like (100,85), (101,90), etc. I should use an INSERT INTO statement with multiple VALUES to add all these rows at once. Let me check the syntax for inserting multiple rows in SQLite. The correct syntax is INSERT INTO table (columns) VALUES (values), (values), ...;\n",
      "\n",
      "So the query would be INSERT INTO scores (id, score) VALUES (100,85), (101,90), (102,88), (103,95), (104,80), (105,92), (106,87), (107,100), (108,83), (109,98); \n",
      "\n",
      "I need to make sure all the values are correctly listed and separated by commas. No semicolon in the middle, just at the end. Also, check that the columns are specified correctly. Since the table has id and score as INTEGER types, the values provided are all integers, so that's good.\n",
      "\n",
      "Now, use the sqlite-write_query function to execute this INSERT statement. The response should confirm that the rows were inserted. Then, maybe the user would want to verify the data, so perhaps run a SELECT * FROM scores; to show the contents. But the user's request was just to create and fill the table, so maybe after the insertion, confirm the number of rows affected. However, the write_query function's response might just say \"Query executed successfully\" without details. \n",
      "\n",
      "Alternatively, after inserting, the user might want to see the data, but the assistant should follow the user's instruction unless told otherwise. Since the user asked to fill the table with the contents, the main action is done. The next step is to inform the user that the data has been inserted and perhaps offer further actions like querying the data.\n",
      "[TOOL_CALL] sqlite-write_query\n",
      "{\"query\": \"INSERT INTO scores (id, score) VALUES (100,85), (101,90), (102,88), (103,95), (104,80), (105,92), (106,87), (107,100), (108,83), (109,98);\"}\n",
      "[TOOL_RESPONSE] sqlite-write_query\n",
      "[{'affected_rows': 10}]\n",
      "[THINK]\n",
      "Okay, let me go through the steps here. The user wanted to create a table and fill it with the data from the scores.csv file. First, I used the sqlite-create_table function to create the 'scores' table with columns id and score, both integers. The response said the table was created successfully.\n",
      "\n",
      "Next, I needed to insert the data. I took the rows from the CSV file and formatted them into an INSERT statement. Each row was added as a VALUES pair. The sqlite-write_query function was used to execute the insert, and it returned that 10 rows were affected, which matches the number of entries in the CSV. That means all the data was inserted correctly.\n",
      "\n",
      "Now, I should confirm the insertion and maybe offer to verify the data. Since the user might want to check if everything went well, suggesting a SELECT query would be helpful. But the user hasn't asked for that yet, so I'll mention that the data is ready and ask if they need any further actions like querying or analysis. Keeping the response open-ended allows them to decide next steps.\n",
      "[ANSWER]\n",
      "The database table `scores` has been successfully created and populated with the 10 records from your CSV file. The `affected_rows` count confirms all data was inserted.\n",
      "\n",
      "Would you like me to:\n",
      "1. Show the contents of the table with a `SELECT * FROM scores` query?\n",
      "2. Perform calculations (e.g., average score, highest/lowest scores)?\n",
      "3. Export the table to another format?\n",
      "\n",
      "Let me know how you'd like to proceed!"
     ]
    }
   ],
   "source": [
    "response_plain_text = ''\n",
    "\n",
    "for ret_messages in agent.run(messages):\n",
    "    response_plain_text = typewriter_print(ret_messages, response_plain_text)"
   ]
  },
  {
   "cell_type": "code",
   "execution_count": 17,
   "metadata": {},
   "outputs": [],
   "source": [
    "messages += ret_messages"
   ]
  },
  {
   "cell_type": "markdown",
   "metadata": {},
   "source": [
    "# Step 4: Query the Highest Score\n",
    "\n",
    "We query the highest score in the database. You can also perform other queries."
   ]
  },
  {
   "cell_type": "code",
   "execution_count": 18,
   "metadata": {},
   "outputs": [],
   "source": [
    "messages += [{'role': 'user', 'content': 'Query the highest score from the database.'}]"
   ]
  },
  {
   "cell_type": "code",
   "execution_count": 19,
   "metadata": {},
   "outputs": [
    {
     "name": "stdout",
     "output_type": "stream",
     "text": [
      "[THINK]\n",
      "Okay, the user wants to query the highest score from the database. Let me think about how to approach this.\n",
      "\n",
      "First, I need to recall the structure of the database. The user created a table called 'scores' with columns 'id' and 'score'. The data was inserted from the CSV file, which had 10 entries. \n",
      "\n",
      "To find the highest score, the best SQL approach is to use the MAX() function. The correct query would be SELECT MAX(score) FROM scores;. That should return the maximum value in the score column.\n",
      "\n",
      "I should make sure there are no typos in the query. Also, since the user might expect just the highest value, maybe I can format the response to present it clearly. \n",
      "\n",
      "Wait, should I alias the column for better readability? Like SELECT MAX(score) AS highest_score... That way, the result will have a clear column name instead of just MAX(score). \n",
      "\n",
      "Yes, that's a good idea. It makes the output more user-friendly. So the final query would be SELECT MAX(score) AS highest_score FROM scores;.\n",
      "\n",
      "I need to use the sqlite-read_query function because this is a SELECT statement. The write_query is for INSERT, UPDATE, DELETE. \n",
      "\n",
      "Let me check if there are any other possible issues. The table name is correct, and the column 'score' exists. The data was inserted successfully earlier, so there should be no problem here.\n",
      "\n",
      "Alright, time to construct the tool call with the correct query.\n",
      "[TOOL_CALL] sqlite-read_query\n",
      "{\"query\": \"SELECT MAX(score) AS highest_score FROM scores;\"}\n",
      "[TOOL_RESPONSE] sqlite-read_query\n",
      "[{'highest_score': 100}]\n",
      "[THINK]\n",
      "Okay, the user asked for the highest score from the database. I need to check the response from the tool call.\n",
      "\n",
      "The tool response shows that the highest score is 100. Let me confirm that the query was correct. The SQL query used the MAX() function on the 'score' column, which should give the maximum value. The result is 100, which matches the data in the CSV file where the highest score was 100 for id 107.\n",
      "\n",
      "Now, I should present this information clearly. The user might want to know not just the highest score but also who achieved it. Maybe they need both the score and the corresponding id. But since the current query only returns the maximum value, I can mention that if they need the id, a different query would be required.\n",
      "\n",
      "I should also offer further assistance in case they have more requests, like finding other statistics or details. Keeping the response friendly and helpful is important here.\n",
      "[ANSWER]\n",
      "The highest score in the database is **100**.\n",
      "\n",
      "Would you like me to:\n",
      "- Show which student (by ID) achieved this score?\n",
      "- Calculate other statistics (average, median, etc.)?\n",
      "- Display all scores in descending order?\n",
      "\n",
      "Let me know how you'd like to proceed!"
     ]
    }
   ],
   "source": [
    "response_plain_text = ''\n",
    "\n",
    "for ret_messages in agent.run(messages):\n",
    "    response_plain_text = typewriter_print(ret_messages, response_plain_text)"
   ]
  },
  {
   "cell_type": "markdown",
   "metadata": {},
   "source": [
    "# Use the GUI\n",
    "\n",
    "We have explored the capabilities of the Qwen-Agent framework and Qwen models for data manipulations with databases.\n",
    "\n",
    "Even better, we can easily create a web UI for an agent!"
   ]
  },
  {
   "cell_type": "code",
   "execution_count": 20,
   "metadata": {},
   "outputs": [
    {
     "name": "stderr",
     "output_type": "stream",
     "text": [
      "2025-06-04 10:37:00,528 - mcp_manager.py - 141 - INFO - Initializing MCP tools from mcp servers: ['filesystem', 'sqlite']\n",
      "2025-06-04 10:37:00,536 - mcp_manager.py - 370 - INFO - Initializing a MCP stdio_client, if this takes forever, please check the config of this mcp server: filesystem\n",
      "2025-06-04 10:37:01,644 - mcp_manager.py - 370 - INFO - Initializing a MCP stdio_client, if this takes forever, please check the config of this mcp server: sqlite\n",
      "2025-06-04 10:37:01,947 - mcp_manager.py - 237 - INFO - Failed in listing MCP resource templates: Method not found\n"
     ]
    },
    {
     "name": "stdout",
     "output_type": "stream",
     "text": [
      "* Running on local URL:  http://127.0.0.1:7860\n",
      "\n",
      "To create a public link, set `share=True` in `launch()`.\n"
     ]
    },
    {
     "data": {
      "text/html": [
       "<div><iframe src=\"http://127.0.0.1:7860/\" width=\"100%\" height=\"500\" allow=\"autoplay; camera; microphone; clipboard-read; clipboard-write;\" frameborder=\"0\" allowfullscreen></iframe></div>"
      ],
      "text/plain": [
       "<IPython.core.display.HTML object>"
      ]
     },
     "metadata": {},
     "output_type": "display_data"
    }
   ],
   "source": [
    "from qwen_agent.gui import WebUI\n",
    "\n",
    "agent = Assistant(\n",
    "    name=\"Qwen Assistant\",\n",
    "    description=\"I'm a digital assistant powered by Qwen-Agent, ask me anything!\",\n",
    "    llm=llm_cfg,\n",
    "    function_list=tools\n",
    ")\n",
    "\n",
    "WebUI(agent).run()\n",
    "# Have fun!"
   ]
  },
  {
   "cell_type": "code",
   "execution_count": null,
   "metadata": {},
   "outputs": [],
   "source": []
  }
 ],
 "metadata": {
  "kernelspec": {
   "display_name": "qwen-agent",
   "language": "python",
   "name": "python3"
  },
  "language_info": {
   "codemirror_mode": {
    "name": "ipython",
    "version": 3
   },
   "file_extension": ".py",
   "mimetype": "text/x-python",
   "name": "python",
   "nbconvert_exporter": "python",
   "pygments_lexer": "ipython3",
   "version": "3.11.0"
  }
 },
 "nbformat": 4,
 "nbformat_minor": 2
}
