{
 "cells": [
  {
   "cell_type": "markdown",
   "metadata": {},
   "source": [
    "# Cookbook: Drive Guide\n",
    "\n",
    "In this cookbook, we will demonstrate how to query the distance between two locations and create a driving plan using an agent."
   ]
  },
  {
   "cell_type": "markdown",
   "metadata": {},
   "source": [
    "# Install Requirements\n",
    "\n",
    "We will use [Qwen-Agent](https://github.com/QwenLM/Qwen-Agent) in this book. For demonstration, we will need at least the `mcp` functionality of Qwen-Agent."
   ]
  },
  {
   "cell_type": "code",
   "execution_count": null,
   "metadata": {},
   "outputs": [],
   "source": [
    "!pip3 install -U \"qwen-agent[gui,rag,code_interpreter,mcp]\"\n",
    "# `pip install -U qwen-agent` will install the minimal requirements.\n",
    "# The optional requirements, specified in double brackets, are:\n",
    "#   [gui] for Gradio-based GUI support;\n",
    "#   [rag] for RAG support;\n",
    "#   [code_interpreter] for Code Interpreter support;\n",
    "#   [mcp] for MCP support."
   ]
  },
  {
   "cell_type": "markdown",
   "metadata": {},
   "source": [
    "# Step 1: Create an Agent\n",
    "\n",
    "Create an agent that is capable of utilizing map functionalities provided by Amap.\n",
    "\n",
    "An api key for Amap is needed, instructions are at https://lbs.amap.com/api/mcp-server/summary"
   ]
  },
  {
   "cell_type": "code",
   "execution_count": null,
   "metadata": {},
   "outputs": [],
   "source": [
    "from qwen_agent.agents import Assistant\n",
    "from qwen_agent.utils.output_beautify import typewriter_print\n",
    "# `typewriter_print` 以非重叠的方式打印流式消息，便于清晰查看。"
   ]
  },
  {
   "cell_type": "code",
   "execution_count": 5,
   "metadata": {},
   "outputs": [],
   "source": [
    "import dotenv\n",
    "# Load environment variables from a .env file if it exists\n",
    "dotenv.load_dotenv()\n",
    "DASHSCOPE_API_KEY = dotenv.get_key(dotenv.find_dotenv(), 'DASHSCOPE_API_KEY')\n",
    "AMAP_API_KEY = dotenv.get_key(dotenv.find_dotenv(), 'AMAP_API_KEY')"
   ]
  },
  {
   "cell_type": "code",
   "execution_count": 6,
   "metadata": {},
   "outputs": [
    {
     "name": "stderr",
     "output_type": "stream",
     "text": [
      "2025-06-04 10:50:33,738 - mcp_manager.py - 141 - INFO - Initializing MCP tools from mcp servers: ['amap-amap-sse']\n",
      "2025-06-04 10:50:33,739 - mcp_manager.py - 338 - INFO - amap-amap-sse sse_read_timeout: 300s\n"
     ]
    },
    {
     "name": "stderr",
     "output_type": "stream",
     "text": [
      "Error in sse_reader: \n"
     ]
    }
   ],
   "source": [
    "llm_cfg = {\n",
    "    'model': 'qwen3-32b',\n",
    "    'model_server': 'dashscope',\n",
    "    'api_key': DASHSCOPE_API_KEY # **fill your dashscope api key here**\n",
    "\n",
    "    # Use a model service compatible with the OpenAI API, such as vLLM or Ollama:\n",
    "    # 'model': 'Qwen3-8B',\n",
    "    # 'model_server': 'http://localhost:8000/v1',  # base_url, also known as api_base\n",
    "    # 'api_key': 'EMPTY'\n",
    "}\n",
    "\n",
    "tools = [\n",
    "    {\n",
    "        \"mcpServers\": {\n",
    "            # enumeration of mcp server configs\n",
    "            \"amap-amap-sse\": {\n",
    "                \"url\": \"https://mcp.amap.com/sse?key=\"+AMAP_API_KEY  # **fill your amap mcp key**\n",
    "            }\n",
    "        }\n",
    "    }\n",
    "]\n",
    "\n",
    "agent = Assistant(\n",
    "    llm=llm_cfg, \n",
    "    function_list=tools\n",
    ")"
   ]
  },
  {
   "cell_type": "markdown",
   "metadata": {},
   "source": [
    "# Step 2: Calculate the Distance\n",
    "\n",
    "We can query the distance between two locations by prompting the agent, which will then provide an answer utilizing the MCP server."
   ]
  },
  {
   "cell_type": "code",
   "execution_count": 7,
   "metadata": {},
   "outputs": [],
   "source": [
    "query = \"How far is it between Zhejiang University (more specifically, the Zijingang Campus) and Hangzhou Xiaoshan airport?\"\n",
    "messages = [{'role': 'user', 'content': query}]"
   ]
  },
  {
   "cell_type": "code",
   "execution_count": 8,
   "metadata": {},
   "outputs": [
    {
     "name": "stdout",
     "output_type": "stream",
     "text": [
      "[THINK]\n",
      "Okay, the user is asking for the distance between Zhejiang University's Zijingang Campus and Hangzhou Xiaoshan Airport. Let me figure out how to approach this.\n",
      "\n",
      "First, I need the coordinates of both locations. The user mentioned specific places, so I should use the geocoding function to get their latitudes and longitudes. The function amap-amap-sse-maps_geo can convert addresses to coordinates. \n",
      "\n",
      "For Zhejiang University Zijingang Campus, the address would be something like \"Zijingang Campus, Zhejiang University, Hangzhou, China\". Similarly, Hangzhou Xiaoshan Airport is a well-known landmark, so the address is straightforward. \n",
      "\n",
      "Once I have both coordinates, I can use the distance measurement function amap-amap-sse-maps_distance. The user didn't specify the type of distance (driving, walking, straight line), but since it's between a campus and an airport, driving distance is probably most relevant. The type parameter would be 1 for driving. \n",
      "\n",
      "Wait, the user might want the straight-line distance as well. But the function allows specifying the type, so maybe I should check. However, the user's question is \"how far is it\", which could be ambiguous. Since the distance function can handle different types, I'll go with driving distance unless told otherwise. \n",
      "\n",
      "So the steps are: \n",
      "1. Get coordinates for Zijingang Campus.\n",
      "2. Get coordinates for Xiaoshan Airport.\n",
      "3. Calculate the distance between them using the distance function with type 1 (driving).\n",
      "\n",
      "I should make sure the addresses are correctly specified. For the geocode function, the city parameter might help. For example, when geocoding the campus, specifying Hangzhou as the city could improve accuracy. Same for the airport. \n",
      "\n",
      "Let me structure the function calls. First, call amap-amap-sse-maps_geo for the campus address. Then another call for the airport. Once I have both coordinates, use the distance function with the origins and destination parameters. \n",
      "\n",
      "Wait, the distance function's origins parameter can take multiple points, but in this case, it's just one origin. The destination is one point. So the origins would be the campus coordinates, destination the airport coordinates, and type 1. \n",
      "\n",
      "I need to make sure that the geocoding returns accurate results. If there's any ambiguity, the POI ID from a more detailed search might help, but the user didn't mention that. So using the standard geocode should suffice. \n",
      "\n",
      "So, first two tool calls for geocoding, then one for distance. The final answer will be the distance returned by the function. Alright, let's proceed.\n",
      "[TOOL_CALL] amap-amap-sse-maps_geo\n",
      "{\"address\": \"Zijingang Campus, Zhejiang University, Hangzhou\", \"city\": \"Hangzhou\"}\n",
      "[TOOL_CALL] amap-amap-sse-maps_geo\n",
      "{\"address\": \"Hangzhou Xiaoshan International Airport\", \"city\": \"Hangzhou\"}\n",
      "[TOOL_RESPONSE] amap-amap-sse-maps_geo\n",
      "{\"results\":[{\"country\":\"中国\",\"province\":\"浙江省\",\"city\":\"杭州市\",\"citycode\":\"0571\",\"district\":\"西湖区\",\"street\":[],\"number\":[],\"adcode\":\"330106\",\"location\":\"120.088667,30.304176\",\"level\":\"住宅区\"}]}\n",
      "[TOOL_RESPONSE] amap-amap-sse-maps_geo\n",
      "{\"results\":[{\"country\":\"中国\",\"province\":\"浙江省\",\"city\":\"杭州市\",\"citycode\":\"0571\",\"district\":\"萧山区\",\"street\":[],\"number\":[],\"adcode\":\"330109\",\"location\":\"120.427708,30.228153\",\"level\":\"住宅区\"}]}\n",
      "[THINK]\n",
      "Okay, so the user asked for the distance between Zhejiang University's Zijingang Campus and Hangzhou Xiaoshan Airport. I need to figure out which tool to use next.\n",
      "\n",
      "First, I called the geocoding function for both locations. The responses gave me the coordinates: 120.088667,30.304176 for the campus and 120.427708,30.228153 for the airport. Now that I have both sets of coordinates, the next step is to calculate the distance between them.\n",
      "\n",
      "Looking at the available tools, there's the amap-amap-sse-maps_distance function. It requires origins, destination, and type. The origins can be the campus coordinates, and the destination is the airport's. The type parameter is for driving, walking, or straight-line distance. Since the user didn't specify, but usually, when someone asks about distance between a university and an airport, they might be interested in driving distance. So I'll set type to 1 for driving.\n",
      "\n",
      "Wait, the parameters for the distance function say \"origins\" can take multiple coordinates separated by |, but here we only have one origin. So I'll just input the single coordinate pair. The destination is straightforward. Let me make sure the format is correct: origins should be a string like \"120.088667,30.304176\" and destination \"120.427708,30.228153\", with type 1. That should work. I'll call the distance function with these parameters.\n",
      "[TOOL_CALL] amap-amap-sse-maps_distance\n",
      "{\"origins\": \"120.088667,30.304176\", \"destination\": \"120.427708,30.228153\", \"type\": \"1\"}\n",
      "[TOOL_RESPONSE] amap-amap-sse-maps_distance\n",
      "{\"results\":[{\"origin_id\":\"1\",\"dest_id\":\"1\",\"distance\":\"40384\",\"duration\":\"2912\"}]}\n",
      "[THINK]\n",
      "Okay, let me see. The user asked for the distance between Zhejiang University's Zijingang Campus and Hangzhou Xiaoshan Airport. I first needed to get the coordinates for both locations using the geocoding function. Then, I used the distance function to calculate the driving distance.\n",
      "\n",
      "The geocoding responses gave me the coordinates: 120.088667,30.304176 for the university and 120.427708,30.228153 for the airport. Plugging those into the distance function with type 1 (driving) returned a distance of 40,384 meters. Converting that to kilometers makes it 40.384 km. The duration was 2912 seconds, which is about 48.5 minutes. \n",
      "\n",
      "I should present the distance in a user-friendly way, probably rounding it to a whole number. So, approximately 40 kilometers. Also, mentioning the duration gives a complete answer. The user might be planning a trip, so both distance and time are useful. I need to make sure the units are clear and the numbers are accurate based on the API response.\n",
      "[ANSWER]\n",
      "The driving distance between Zhejiang University (Zijingang Campus) and Hangzhou Xiaoshan Airport is approximately **40.4 kilometers** (40,384 meters), with an estimated travel time of **48 minutes** (2912 seconds)."
     ]
    }
   ],
   "source": [
    "response_plain_text = ''\n",
    "\n",
    "for ret_messages in agent.run(messages):\n",
    "    response_plain_text = typewriter_print(ret_messages, response_plain_text)"
   ]
  },
  {
   "cell_type": "code",
   "execution_count": 9,
   "metadata": {},
   "outputs": [],
   "source": [
    "messages += ret_messages # extending the context with new `ret_messages`."
   ]
  },
  {
   "cell_type": "markdown",
   "metadata": {},
   "source": [
    "# Step 3: Make a Drive Plan\n",
    "\n",
    "We can create a drive plan by asking follow-up questions, and the agent will generate the plan for us."
   ]
  },
  {
   "cell_type": "code",
   "execution_count": 10,
   "metadata": {},
   "outputs": [],
   "source": [
    "messages += [{'role': 'user', 'content': 'Okay, how can i drive?'}]"
   ]
  },
  {
   "cell_type": "code",
   "execution_count": 11,
   "metadata": {},
   "outputs": [
    {
     "name": "stdout",
     "output_type": "stream",
     "text": [
      "[THINK]\n",
      "Okay, the user just asked, \"Okay, how can I drive?\" after I provided the distance and estimated time between Zhejiang University's Zijingang Campus and Hangzhou Xiaoshan Airport. Let me break this down.\n",
      "\n",
      "First, the user is interested in driving directions now. They already know the distance and time, so the next step is to get the actual route. I need to figure out which function to use for driving directions. Looking at the tools provided, there's the \"amap-amap-sse-maps_direction_driving\" function. That's the one for驾车路径规划, which translates to driving route planning. The parameters required are origin and destination coordinates. \n",
      "\n",
      "I remember from the previous interaction that I used the amap-amap-sse-maps_geo function to get the coordinates for both locations. The Zijingang Campus was at 120.088667,30.304176 and the airport is at 120.427708,30.228153. So those coordinates should be used as the origin and destination in the driving directions function.\n",
      "\n",
      "Wait, the user might not just want the coordinates but a step-by-step driving route. The driving direction function should return the necessary steps. Let me check the parameters again. The function requires origin and destination as strings in \"经度，纬度\" format, which I have. So I need to call the driving direction function with those coordinates.\n",
      "\n",
      "Another thing to consider: the user might be looking for a summary of the route, like major roads to take, any tolls, or traffic conditions. But the function's description says it returns the通勤方案的数据, which includes the route data. However, the exact details of the response aren't specified. Assuming the function returns the necessary route instructions, I can then present that to the user.\n",
      "\n",
      "Wait, but in the previous step, when calculating the distance, the type was set to 1 for driving. The duration was 2912 seconds, which is about 48 minutes. The driving directions should align with that. So the function should provide a route that takes around that time. \n",
      "\n",
      "Is there a possibility of multiple routes? The function might return different options, but the user hasn't specified any preferences like avoiding tolls or highways. So the default route from the API should suffice.\n",
      "\n",
      "I should make sure the origin and destination are correctly formatted. The origin is Zijingang Campus's coordinates, and the destination is the airport's. Let me double-check the coordinates from the previous tool responses. Yes, the campus is 120.088667,30.304176 and the airport is 120.427708,30.228153. \n",
      "\n",
      "So the correct function call would be to amap-amap-sse-maps_direction_driving with those coordinates. Once I get the response, I can extract the route steps and present them to the user in a clear manner. If the function returns a JSON with the route details, I'll need to parse that and summarize the key points like directions, estimated time, distance, and any important landmarks or turns.\n",
      "[TOOL_CALL] amap-amap-sse-maps_direction_driving\n",
      "{\"origin\": \"120.088667,30.304176\", \"destination\": \"120.427708,30.228153\"}\n",
      "[TOOL_RESPONSE] amap-amap-sse-maps_direction_driving\n",
      "{\"origin\":\"120.088667,30.304176\",\"destination\":\"120.427708,30.228153\",\"paths\":[{\"path\":\"\",\"distance\":\"40464\",\"duration\":\"2966\",\"steps\":[{\"instruction\":\"向东行驶42米右转\",\"road\":\"\",\"distance\":\"42\",\"orientation\":\"东\",\"duration\":\"13\"},{\"instruction\":\"向南行驶99米左转\",\"road\":\"\",\"distance\":\"99\",\"orientation\":\"南\",\"duration\":\"42\"},{\"instruction\":\"向东行驶50米右转\",\"road\":\"\",\"distance\":\"50\",\"orientation\":\"东\",\"duration\":\"18\"},{\"instruction\":\"沿藕舫南路向南行驶661米左转\",\"road\":\"藕舫南路\",\"distance\":\"661\",\"orientation\":\"南\",\"duration\":\"112\"},{\"instruction\":\"沿藕舫南路向东南行驶62米左转\",\"road\":\"藕舫南路\",\"distance\":\"62\",\"orientation\":\"东南\",\"duration\":\"24\"},{\"instruction\":\"沿遵义西路向东行驶189米右转\",\"road\":\"遵义西路\",\"distance\":\"189\",\"orientation\":\"东\",\"duration\":\"53\"},{\"instruction\":\"沿紫荆花北路向南行驶205米左转\",\"road\":\"紫荆花北路\",\"distance\":\"205\",\"orientation\":\"南\",\"duration\":\"76\"},{\"instruction\":\"沿余杭塘路向东行驶182米靠左\",\"road\":\"余杭塘路\",\"distance\":\"182\",\"orientation\":\"东\",\"duration\":\"9\"},{\"instruction\":\"沿余杭塘路向东行驶225米直行进入隧道\",\"road\":\"余杭塘路\",\"distance\":\"225\",\"orientation\":\"东\",\"duration\":\"11\"},{\"instruction\":\"沿丰古隧道途径余杭塘路向东行驶1.8千米靠左\",\"road\":\"丰古隧道\",\"distance\":\"1783\",\"orientation\":\"东\",\"duration\":\"121\"},{\"instruction\":\"沿余杭塘路向东行驶268米直行进入隧道\",\"road\":\"余杭塘路\",\"distance\":\"268\",\"orientation\":\"东\",\"duration\":\"12\"},{\"instruction\":\"沿余杭塘路隧道途径余杭塘路向东行驶1.6千米右转\",\"road\":\"余杭塘路隧道\",\"distance\":\"1619\",\"orientation\":\"东\",\"duration\":\"145\"},{\"instruction\":\"沿教工路向南行驶503米左转\",\"road\":\"教工路\",\"distance\":\"503\",\"orientation\":\"南\",\"duration\":\"159\"},{\"instruction\":\"沿文一路辅路向东行驶324米向左前方行驶进入主路\",\"road\":\"文一路辅路\",\"distance\":\"324\",\"orientation\":\"东\",\"duration\":\"33\"},{\"instruction\":\"沿文一路入口途径文一路向东行驶89米靠左沿主路行驶\",\"road\":\"文一路入口\",\"distance\":\"89\",\"orientation\":\"东\",\"duration\":\"8\"},{\"instruction\":\"沿文一路途径德胜快速路向东行驶1.6千米靠左沿主路行驶\",\"road\":\"文一路\",\"distance\":\"1607\",\"orientation\":\"东\",\"duration\":\"137\"},{\"instruction\":\"沿德胜快速路向东行驶7.3千米向右前方行驶进入匝道\",\"road\":\"德胜快速路\",\"distance\":\"7276\",\"orientation\":\"东\",\"duration\":\"520\"},{\"instruction\":\"沿德胜互通向东行驶591米靠右\",\"road\":\"德胜互通\",\"distance\":\"591\",\"orientation\":\"东\",\"duration\":\"37\"},{\"instruction\":\"沿德胜互通途径空港高架路向南行驶1.9千米靠左沿主路行驶\",\"road\":\"德胜互通\",\"distance\":\"1894\",\"orientation\":\"南\",\"duration\":\"99\"},{\"instruction\":\"沿空港高架路途径彭埠大桥向东南行驶14.6千米靠左\",\"road\":\"空港高架路\",\"distance\":\"14635\",\"orientation\":\"东南\",\"duration\":\"699\"},{\"instruction\":\"沿空港高架路向东行驶71米减速行驶到达收费站\",\"road\":\"空港高架路\",\"distance\":\"71\",\"orientation\":\"东\",\"duration\":\"31\"},{\"instruction\":\"沿S2杭甬高速向东行驶566米靠左沿主路行驶\",\"road\":\"S2杭甬高速\",\"distance\":\"566\",\"orientation\":\"东\",\"duration\":\"35\"},{\"instruction\":\"沿S2杭甬高速途径G92杭州湾环线高速向东行驶2.3千米向右前方行驶进入匝道\",\"road\":\"S2杭甬高速\",\"distance\":\"2260\",\"orientation\":\"东\",\"duration\":\"103\"},{\"instruction\":\"沿机场互通向东行驶1.1千米减速行驶到达收费站\",\"road\":\"机场互通\",\"distance\":\"1136\",\"orientation\":\"东\",\"duration\":\"92\"},{\"instruction\":\"沿机场互通途径S4机场公路、S4机场公路出口、机场1号路向东行驶3.0千米右转\",\"road\":\"机场互通\",\"distance\":\"3022\",\"orientation\":\"东\",\"duration\":\"185\"},{\"instruction\":\"沿航安路向东南行驶266米左转\",\"road\":\"航安路\",\"distance\":\"266\",\"orientation\":\"东南\",\"duration\":\"62\"},{\"instruction\":\"沿翔飞路向东北行驶675米右转\",\"road\":\"翔飞路\",\"distance\":\"675\",\"orientation\":\"东北\",\"duration\":\"69\"},{\"instruction\":\"向东南行驶49米左转\",\"road\":\"\",\"distance\":\"49\",\"orientation\":\"东南\",\"duration\":\"25\"},{\"instruction\":\"向东北行驶115米到达目的地\",\"road\":\"\",\"distance\":\"115\",\"orientation\":\"东北\",\"duration\":\"36\"}]}]}\n",
      "[THINK]\n",
      "Okay, let me try to figure out how to help the user with their driving directions from Zhejiang University's Zijingang Campus to Hangzhou Xiaoshan Airport. First, I need to process the data from the tool response. The tool provided a detailed path with steps, distances, and durations.\n",
      "\n",
      "The user asked, \"Okay, how can I drive?\" so they need clear, step-by-step instructions. The response from the API has a list of steps, each with an instruction, road name, distance, orientation, and duration. I should summarize these steps into a more user-friendly format.\n",
      "\n",
      "Looking at the first few steps: starting by heading east for 42 meters, then turning right, then south for 99 meters, left turn, etc. These initial steps seem to be navigating through campus roads. Then the route takes over main roads like藕舫南路,遵义西路,紫荆花北路, and others. \n",
      "\n",
      "I notice that some steps mention entering tunnels or highways, like the丰古隧道 and德胜快速路. These are important landmarks for the driver. The route also transitions to highways likeS2杭甬高速 andG92杭州湾环线高速, which are major highways leading towards the airport. \n",
      "\n",
      "The final steps involve exiting the highway, taking the机场互通, and then following航安路 and翔飞路 to the airport. The total distance is about 40.464 km, and the estimated time is around 49 minutes (2966 seconds). \n",
      "\n",
      "I should present the key points in order, highlighting major roads and turns. Maybe group the steps into sections: starting from the campus, entering main roads, taking highways, exiting onto airport roads, and final approach. Also, mention the total distance and time at the beginning for clarity. Make sure to use simple language and avoid technical terms where possible. Check if any steps are particularly critical, like tolls or traffic lights, but the tool response doesn't mention those. Just focus on the directions given.\n",
      "[ANSWER]\n",
      "Here is the driving route from Zhejiang University (Zijingang Campus) to Hangzhou Xiaoshan Airport:\n",
      "\n",
      "**Total Distance**: ~40.5 km  \n",
      "**Estimated Time**: ~49 minutes  \n",
      "\n",
      "### Key Steps:\n",
      "1. **Start**: Head east on campus roads (42m), then turn right → south (99m) → left → east (50m) → right.  \n",
      "2. **Main Roads**:  \n",
      "   - Follow **藕舫南路** (South) → **遵义西路** (East) → **紫荆花北路** (South) → **余杭塘路** (East).  \n",
      "   - Enter **丰古隧道** (1.8 km) → **余杭塘路隧道** (1.6 km).  \n",
      "3. **Highway Access**:  \n",
      "   - Take **教工路** (South) → **文一路辅路** (East) → merge onto **文一路** (1.6 km) → **德胜快速路** (7.3 km).  \n",
      "4. **Airport Approach**:  \n",
      "   - Continue via **空港高架路** (14.6 km) → **S2杭甬高速** (2.3 km) → **机场互通** (3.0 km).  \n",
      "5. **Final Leg**:  \n",
      "   - Turn right onto **航安路** (266m) → **翔飞路** (675m) → left turn to reach the airport.  \n",
      "\n",
      "Follow road signs and prioritize traffic signals/highway exits. Use navigation apps for real-time updates on traffic or road closures."
     ]
    }
   ],
   "source": [
    "response_plain_text = ''\n",
    "\n",
    "for ret_messages in agent.run(messages):\n",
    "    response_plain_text = typewriter_print(ret_messages, response_plain_text)"
   ]
  },
  {
   "cell_type": "markdown",
   "metadata": {},
   "source": [
    "# Use the GUI\n",
    "\n",
    "We have explored the capabilities of the Qwen-Agent framework and Qwen models in providing travel suggestions. We can also achieve this by using the GUI."
   ]
  },
  {
   "cell_type": "code",
   "execution_count": 8,
   "metadata": {},
   "outputs": [
    {
     "name": "stderr",
     "output_type": "stream",
     "text": [
      "2025-05-01 21:14:00,386 - mcp_manager.py - 110 - INFO - Initializing MCP tools from mcp servers: ['amap-amap-sse']\n"
     ]
    },
    {
     "name": "stdout",
     "output_type": "stream",
     "text": [
      "* Running on local URL:  http://127.0.0.1:7861\n",
      "\n",
      "To create a public link, set `share=True` in `launch()`.\n"
     ]
    },
    {
     "data": {
      "text/html": [
       "<div><iframe src=\"http://127.0.0.1:7861/\" width=\"100%\" height=\"500\" allow=\"autoplay; camera; microphone; clipboard-read; clipboard-write;\" frameborder=\"0\" allowfullscreen></iframe></div>"
      ],
      "text/plain": [
       "<IPython.core.display.HTML object>"
      ]
     },
     "metadata": {},
     "output_type": "display_data"
    }
   ],
   "source": [
    "from qwen_agent.gui import WebUI\n",
    "\n",
    "agent = Assistant(\n",
    "    name=\"Qwen Guide\",\n",
    "    description=\"I can help with your travel needs, ask me anything!\",\n",
    "    llm=llm_cfg,\n",
    "    function_list=tools\n",
    ")\n",
    "\n",
    "WebUI(agent).run()"
   ]
  },
  {
   "cell_type": "code",
   "execution_count": null,
   "metadata": {},
   "outputs": [],
   "source": []
  }
 ],
 "metadata": {
  "kernelspec": {
   "display_name": "qwen-agent",
   "language": "python",
   "name": "python3"
  },
  "language_info": {
   "codemirror_mode": {
    "name": "ipython",
    "version": 3
   },
   "file_extension": ".py",
   "mimetype": "text/x-python",
   "name": "python",
   "nbconvert_exporter": "python",
   "pygments_lexer": "ipython3",
   "version": "3.11.0"
  }
 },
 "nbformat": 4,
 "nbformat_minor": 2
}
