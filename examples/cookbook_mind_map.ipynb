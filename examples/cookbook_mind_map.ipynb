{
 "cells": [
  {
   "cell_type": "markdown",
   "metadata": {},
   "source": [
    "# Cookbook: Mind Map\n",
    "\n",
    "In this cookbook, we will demonstrate how to interact with files and create structured visual outputs like mind maps using an agent."
   ]
  },
  {
   "cell_type": "markdown",
   "metadata": {},
   "source": [
    "# Install Requirements\n",
    "\n",
    "We will use [Qwen-Agent](https://github.com/QwenLM/Qwen-Agent) in this book. For demonstration, we will need at least the `mcp` functionality of Qwen-Agent."
   ]
  },
  {
   "cell_type": "code",
   "execution_count": null,
   "metadata": {},
   "outputs": [],
   "source": [
    "!pip3 install -U \"qwen-agent[gui,rag,code_interpreter,mcp]\"\n",
    "# `pip install -U qwen-agent` will install the minimal requirements.\n",
    "# The optional requirements, specified in double brackets, are:\n",
    "#   [gui] for Gradio-based GUI support;\n",
    "#   [rag] for RAG support;\n",
    "#   [code_interpreter] for Code Interpreter support;\n",
    "#   [mcp] for MCP support."
   ]
  },
  {
   "cell_type": "code",
   "execution_count": null,
   "metadata": {},
   "outputs": [],
   "source": [
    "!pip3 install -U uv\n",
    "# We will use mcp servers that run with the `uvx` command, so `uv` is required."
   ]
  },
  {
   "cell_type": "code",
   "execution_count": null,
   "metadata": {},
   "outputs": [],
   "source": [
    "!npm --version\n",
    "# We also use mcp servers that run with the `npx` command, so node.js should be installed."
   ]
  },
  {
   "cell_type": "markdown",
   "metadata": {},
   "source": [
    "# Create a Document\n",
    "\n",
    "Here, we create a sample document and save it as `example_document.md` for later use."
   ]
  },
  {
   "cell_type": "code",
   "execution_count": 1,
   "metadata": {},
   "outputs": [],
   "source": [
    "document = '''\n",
    "# Document\n",
    "\n",
    "## Introduction\n",
    "- Brief overview of the document's purpose and main topics.\n",
    "\n",
    "## Background\n",
    "- Historical context and previous research.\n",
    "- Key theories and models discussed.\n",
    "\n",
    "## Methodology\n",
    "- Detailed description of the methods used in the study.\n",
    "- Explanation of data collection and analysis techniques.\n",
    "\n",
    "## Results\n",
    "- Presentation of the findings from the research.\n",
    "- Statistical analysis and graphical representations.\n",
    "\n",
    "## Discussion\n",
    "- Interpretation of the results.\n",
    "- Comparison with previous studies.\n",
    "- Limitations and future research directions.\n",
    "\n",
    "## Conclusion\n",
    "- Summary of the main points covered in the document.\n",
    "- Final thoughts and implications of the research.\n",
    "'''.strip()\n",
    "\n",
    "with open('example_document.md', 'w', encoding='utf-8') as f:\n",
    "    f.write(document)"
   ]
  },
  {
   "cell_type": "markdown",
   "metadata": {},
   "source": [
    "# Step 1: Create an Agent\n",
    "\n",
    "Create an agent that is capable of \n",
    "- listing, reading and writing files (through the MCP server `@modelcontextprotocol/server-filesystem`).\n",
    "- making mind maps (through the MCP server `mindmap-mcp-server`, source: [Mindmap MCP Server](https://github.com/YuChenSSR/mindmap-mcp-server))."
   ]
  },
  {
   "cell_type": "code",
   "execution_count": 2,
   "metadata": {},
   "outputs": [],
   "source": [
    "from qwen_agent.agents import Assistant\n",
    "from qwen_agent.utils.output_beautify import typewriter_print\n",
    "# `typewriter_print` prints streaming messages in a non-overlapping manner."
   ]
  },
  {
   "cell_type": "code",
   "execution_count": 3,
   "metadata": {},
   "outputs": [],
   "source": [
    "import dotenv\n",
    "# Load environment variables from a .env file if it exists\n",
    "dotenv.load_dotenv()\n",
    "DASHSCOPE_API_KEY = dotenv.get_key(dotenv.find_dotenv(), 'DASHSCOPE_API_KEY')"
   ]
  },
  {
   "cell_type": "code",
   "execution_count": 4,
   "metadata": {},
   "outputs": [
    {
     "name": "stderr",
     "output_type": "stream",
     "text": [
      "2025-06-04 10:56:11,558 - mcp_manager.py - 141 - INFO - Initializing MCP tools from mcp servers: ['filesystem', 'mindmap']\n",
      "2025-06-04 10:56:11,567 - mcp_manager.py - 370 - INFO - Initializing a MCP stdio_client, if this takes forever, please check the config of this mcp server: filesystem\n",
      "2025-06-04 10:56:12,344 - mcp_manager.py - 370 - INFO - Initializing a MCP stdio_client, if this takes forever, please check the config of this mcp server: mindmap\n"
     ]
    }
   ],
   "source": [
    "llm_cfg = {\n",
    "    'model': 'qwen3-32b',\n",
    "    'model_server': 'dashscope',\n",
    "    'api_key': DASHSCOPE_API_KEY # **fill your api key here**\n",
    "\n",
    "    # Use a model service compatible with the OpenAI API, such as vLLM or Ollama:\n",
    "    # 'model': 'Qwen3-8B',\n",
    "    # 'model_server': 'http://localhost:8000/v1',  # base_url, also known as api_base\n",
    "    # 'api_key': 'EMPTY'\n",
    "}\n",
    "\n",
    "tools = [{\n",
    "    \"mcpServers\": {\n",
    "        \"filesystem\": {\n",
    "            \"command\": \"npx\",\n",
    "            \"args\": [\n",
    "                \"-y\",\n",
    "                \"@modelcontextprotocol/server-filesystem\",\n",
    "                '.',\n",
    "            ]\n",
    "        },\n",
    "        \"mindmap\": {\n",
    "            \"command\": \"uvx\",\n",
    "            \"args\": [\"mindmap-mcp-server\", \"--return-type\", \"filePath\"]\n",
    "        }\n",
    "    }\n",
    "}]\n",
    "agent = Assistant(\n",
    "    llm=llm_cfg,\n",
    "    function_list=tools\n",
    ")"
   ]
  },
  {
   "cell_type": "markdown",
   "metadata": {},
   "source": [
    "# Step 2: Number the Headings\n",
    "\n",
    "We will add numbers to the Markdown headings to demonstrate how we can manipulate Markdown documents with the agent."
   ]
  },
  {
   "cell_type": "code",
   "execution_count": 5,
   "metadata": {},
   "outputs": [],
   "source": [
    "messages = []\n",
    "messages += [{\"role\": \"user\", \"content\": \"Read the example_document.md file in the current folder. In your reply, show me the content with the second-level headings numbered. (example: ## heading -> ## 1. heading)\"}]"
   ]
  },
  {
   "cell_type": "code",
   "execution_count": 6,
   "metadata": {},
   "outputs": [
    {
     "name": "stdout",
     "output_type": "stream",
     "text": [
      "[THINK]\n",
      "Okay, let's see. The user wants me to read the example_document.md file in the current folder and show the content with second-level headings numbered. First, I need to figure out how to read the file. The available tools include filesystem-read_file, which seems appropriate here since it's a single file.\n",
      "\n",
      "So, I'll use the filesystem-read_file function with the path set to \"example_document.md\". Once I get the content, I need to process it to number the second-level headings. The user provided an example where \"## heading\" becomes \"## 1. heading\". That suggests I need to find all lines starting with \"##\" and replace them with a numbered version.\n",
      "\n",
      "Wait, but how to handle multiple headings? I need to keep track of the count. Each time I encounter a \"##\", increment a counter and prepend the number. But since I'm just showing the content with the modifications, maybe I can do this in the response after reading the file. However, the tools don't have a function for editing files, but the user isn't asking to save the changes, just to display them. So after reading the file's content, I can process the string in my response.\n",
      "\n",
      "But first, I need to make sure I actually read the file correctly. Let's call the function to get the content. Then, in the next step, I'll process the content to number the headings. Let me check if there are any other considerations. The user mentioned the current folder, so the path is correct as \"example_document.md\". I should also handle any potential errors, like if the file isn't found, but the function should return an error in that case. Assuming the file exists, proceed.\n",
      "[TOOL_CALL] filesystem-read_file\n",
      "{\"path\": \"example_document.md\"}\n",
      "[TOOL_RESPONSE] filesystem-read_file\n",
      "# Document\n",
      "\n",
      "## Introduction\n",
      "- Brief overview of the document's purpose and main topics.\n",
      "\n",
      "## Background\n",
      "- Historical context and previous research.\n",
      "- Key theories and models discussed.\n",
      "\n",
      "## Methodology\n",
      "- Detailed description of the methods used in the study.\n",
      "- Explanation of data collection and analysis techniques.\n",
      "\n",
      "## Results\n",
      "- Presentation of the findings from the research.\n",
      "- Statistical analysis and graphical representations.\n",
      "\n",
      "## Discussion\n",
      "- Interpretation of the results.\n",
      "- Comparison with previous studies.\n",
      "- Limitations and future research directions.\n",
      "\n",
      "## Conclusion\n",
      "- Summary of the main points covered in the document.\n",
      "- Final thoughts and implications of the research.\n",
      "[THINK]\n",
      "Okay, let me see. The user asked to read the example_document.md and show the content with second-level headings numbered. The assistant called the filesystem-read_file function, which returned the content with several ## headings. Now, I need to process that content to number each ## heading sequentially.\n",
      "\n",
      "First, I'll check the provided content. The original content has headings like \"## Introduction\", \"## Background\", etc. The task is to convert each of these into \"## 1. Introduction\", \"## 2. Background\", and so on. \n",
      "\n",
      "I need to count each occurrence of a ## line and prepend the number in the format \"## X. ...\". Let me go through each line. \n",
      "\n",
      "Looking at the response from the tool call, there are six headings: Introduction, Background, Methodology, Results, Discussion, Conclusion. So they should be numbered 1 through 6. \n",
      "\n",
      "I'll start by splitting the content into lines. Then iterate through each line. When a line starts with \"##\", increment a counter and replace the line with the numbered version. For other lines, leave them as is. \n",
      "\n",
      "Wait, but the example given by the user shows replacing \"## heading\" with \"## 1. heading\". So the numbering starts at 1 for the first ## heading. Let me make sure the count starts correctly. \n",
      "\n",
      "Let me test with the first heading. Introduction is the first, so it becomes \"## 1. Introduction\". The next one, Background, becomes \"## 2. Background\", and so on. \n",
      "\n",
      "Once processed, the final output should have each ## heading numbered in order. Then present that as the answer to the user's request. \n",
      "\n",
      "I need to ensure that the numbering is correct and that no headings are missed. Also, check that the rest of the content remains unchanged. \n",
      "\n",
      "Yes, that should do it. Let me format the final answer accordingly.\n",
      "[ANSWER]\n",
      "Here is the content of `example_document.md` with second-level headings numbered sequentially:\n",
      "\n",
      "```markdown\n",
      "# Document\n",
      "\n",
      "## 1. Introduction\n",
      "- Brief overview of the document's purpose and main topics.\n",
      "\n",
      "## 2. Background\n",
      "- Historical context and previous research.\n",
      "- Key theories and models discussed.\n",
      "\n",
      "## 3. Methodology\n",
      "- Detailed description of the methods used in the study.\n",
      "- Explanation of data collection and analysis techniques.\n",
      "\n",
      "## 4. Results\n",
      "- Presentation of the findings from the research.\n",
      "- Statistical analysis and graphical representations.\n",
      "\n",
      "## 5. Discussion\n",
      "- Interpretation of the results.\n",
      "- Comparison with previous studies.\n",
      "- Limitations and future research directions.\n",
      "\n",
      "## 6. Conclusion\n",
      "- Summary of the main points covered in the document.\n",
      "- Final thoughts and implications of the research.\n",
      "```\n",
      "\n",
      "Let me know if you'd like this saved back to a file or further modified!"
     ]
    }
   ],
   "source": [
    "response_plain_text = ''\n",
    "for ret_messages in agent.run(messages):\n",
    "    # `ret_messages` will contain all subsequent messages, consisting of interleaved assistant messages and tool responses\n",
    "    response_plain_text = typewriter_print(ret_messages, response_plain_text)"
   ]
  },
  {
   "cell_type": "code",
   "execution_count": 7,
   "metadata": {},
   "outputs": [],
   "source": [
    "messages += ret_messages"
   ]
  },
  {
   "cell_type": "markdown",
   "metadata": {},
   "source": [
    "# Step 3: Create a Mind Map\n",
    "\n",
    "We will create a mind map by prompting the agent, and it will call the corresponding tool."
   ]
  },
  {
   "cell_type": "code",
   "execution_count": 8,
   "metadata": {},
   "outputs": [],
   "source": [
    "messages += [{'role': 'user', 'content': 'Create a mind map with your previous markdown output. Show me the saved path.'}]"
   ]
  },
  {
   "cell_type": "code",
   "execution_count": 9,
   "metadata": {},
   "outputs": [
    {
     "name": "stdout",
     "output_type": "stream",
     "text": [
      "[THINK]\n",
      "Okay, the user wants me to create a mind map from the previous markdown output and show the saved path. Let me recall the tools available.\n",
      "\n",
      "First, I need to take the modified markdown content with numbered headings. The user had the markdown content where each ## heading was converted to ## X. heading. The assistant provided that modified content.\n",
      "\n",
      "Now, the user wants a mind map of that. The available tool is mindmap-convert_markdown_to_mindmap. This function takes markdown_content as input. So I can use that function here.\n",
      "\n",
      "Wait, but do I need to pass the original markdown or the modified one with numbers? The user's previous response shows the modified version. Since the user wants the mind map based on the modified content, I should use that modified markdown.\n",
      "\n",
      "But how do I get that content into the function? The assistant's last message included the modified markdown. I can take that content and pass it into the mindmap function.\n",
      "\n",
      "Once the function is called, it should generate the mind map and return the path. Then I can show the user the saved path.\n",
      "\n",
      "So the steps are:\n",
      "\n",
      "1. Take the modified markdown content from the previous response.\n",
      "2. Call mindmap-convert_markdown_to_mindmap with that content.\n",
      "3. The function returns the file path.\n",
      "4. Present the file path to the user.\n",
      "\n",
      "I need to make sure that the markdown content is correctly formatted. Let me check the content again:\n",
      "\n",
      "The markdown has # Document as the main heading, followed by numbered second-level headings like ## 1. Introduction, etc. That should be suitable for conversion.\n",
      "\n",
      "I'll proceed to call the function with this content.\n",
      "[TOOL_CALL] mindmap-convert_markdown_to_mindmap\n",
      "{\"markdown_content\": \"# Document\\n\\n## 1. Introduction\\n- Brief overview of the document's purpose and main topics.\\n\\n## 2. Background\\n- Historical context and previous research.\\n- Key theories and models discussed.\\n\\n## 3. Methodology\\n- Detailed description of the methods used in the study.\\n- Explanation of data collection and analysis techniques.\\n\\n## 4. Results\\n- Presentation of the findings from the research.\\n- Statistical analysis and graphical representations.\\n\\n## 5. Discussion\\n- Interpretation of the results.\\n- Comparison with previous studies.\\n- Limitations and future research directions.\\n\\n## 6. Conclusion\\n- Summary of the main points covered in the document.\\n- Final thoughts and implications of the research.\"}\n",
      "[TOOL_RESPONSE] mindmap-convert_markdown_to_mindmap\n",
      "/tmp/mindmap-6njm5g43/input.html\n",
      "[THINK]\n",
      "Okay, the user asked to create a mind map from the previous markdown output and show the saved path. I used the mindmap-convert_markdown_to_mindmap function with the modified markdown content. The response provided a temporary file path: /tmp/mindmap-6njm5g43/input.html.\n",
      "\n",
      "Now, I need to present this path to the user. Since the path is in the /tmp directory, I should mention that it's a temporary file and might be deleted soon. The user might want to save it elsewhere. I'll include the path and suggest copying it to a preferred location. Also, I'll offer further assistance if needed, like converting to another format or adjusting the mind map. Keeping the response clear and helpful is key here.\n",
      "[ANSWER]\n",
      "The mind map has been generated and saved to the following path:  \n",
      "`/tmp/mindmap-6njm5g43/input.html`\n",
      "\n",
      "This is a temporary file path (common in server environments). You can:  \n",
      "1. Copy this file to a permanent location if needed  \n",
      "2. Open it in a browser to view the mind map  \n",
      "3. Request further modifications if you'd like to adjust the format or content  \n",
      "\n",
      "Would you like me to help with anything else related to this document?"
     ]
    }
   ],
   "source": [
    "response_plain_text = ''\n",
    "for ret_messages in agent.run(messages):\n",
    "    # `ret_messages` will contain all subsequent messages, consisting of interleaved assistant messages and tool responses\n",
    "    response_plain_text = typewriter_print(ret_messages, response_plain_text)"
   ]
  },
  {
   "cell_type": "code",
   "execution_count": null,
   "metadata": {},
   "outputs": [],
   "source": [
    "# We can preview the mind map in the browser!"
   ]
  },
  {
   "cell_type": "markdown",
   "metadata": {},
   "source": [
    "# Use the GUI\n",
    "\n",
    "We have explored the capabilities of the Qwen-Agent framework and Qwen models in processing files. We can also achieve this by using the GUI."
   ]
  },
  {
   "cell_type": "code",
   "execution_count": 9,
   "metadata": {},
   "outputs": [
    {
     "name": "stderr",
     "output_type": "stream",
     "text": [
      "2025-05-01 21:25:44,068 - mcp_manager.py - 110 - INFO - Initializing MCP tools from mcp servers: ['filesystem', 'mindmap']\n",
      "2025-05-01 21:25:44,074 - mcp_manager.py - 245 - INFO - Initializing a MCP stdio_client, if this takes forever, please check the config of this mcp server: filesystem\n",
      "2025-05-01 21:25:45,110 - mcp_manager.py - 245 - INFO - Initializing a MCP stdio_client, if this takes forever, please check the config of this mcp server: mindmap\n"
     ]
    },
    {
     "name": "stdout",
     "output_type": "stream",
     "text": [
      "* Running on local URL:  http://127.0.0.1:7861\n",
      "\n",
      "To create a public link, set `share=True` in `launch()`.\n"
     ]
    },
    {
     "data": {
      "text/html": [
       "<div><iframe src=\"http://127.0.0.1:7861/\" width=\"100%\" height=\"500\" allow=\"autoplay; camera; microphone; clipboard-read; clipboard-write;\" frameborder=\"0\" allowfullscreen></iframe></div>"
      ],
      "text/plain": [
       "<IPython.core.display.HTML object>"
      ]
     },
     "metadata": {},
     "output_type": "display_data"
    }
   ],
   "source": [
    "from qwen_agent.gui import WebUI\n",
    "\n",
    "agent = Assistant(\n",
    "    name=\"Qwen File Processing Assistant\",\n",
    "    description=\"I can help with your file processing needs, ask me anything!\",\n",
    "    llm=llm_cfg,\n",
    "    function_list=tools\n",
    ")\n",
    "\n",
    "WebUI(agent).run()"
   ]
  },
  {
   "cell_type": "code",
   "execution_count": null,
   "metadata": {},
   "outputs": [],
   "source": []
  }
 ],
 "metadata": {
  "kernelspec": {
   "display_name": "qwen-agent",
   "language": "python",
   "name": "python3"
  },
  "language_info": {
   "codemirror_mode": {
    "name": "ipython",
    "version": 3
   },
   "file_extension": ".py",
   "mimetype": "text/x-python",
   "name": "python",
   "nbconvert_exporter": "python",
   "pygments_lexer": "ipython3",
   "version": "3.11.0"
  }
 },
 "nbformat": 4,
 "nbformat_minor": 2
}
